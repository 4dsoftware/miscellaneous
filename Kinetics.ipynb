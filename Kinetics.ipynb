{
 "cells": [
  {
   "cell_type": "code",
   "execution_count": 63,
   "id": "76b5e7ab",
   "metadata": {},
   "outputs": [],
   "source": [
    "import numpy as np\n",
    "import pandas as pd\n",
    "import matplotlib.pyplot as plt\n",
    "from scipy.optimize import *"
   ]
  },
  {
   "cell_type": "markdown",
   "id": "e8e1cca6",
   "metadata": {},
   "source": [
    "# 1. 定义方程"
   ]
  },
  {
   "cell_type": "code",
   "execution_count": 98,
   "id": "b28bcbb8",
   "metadata": {},
   "outputs": [],
   "source": [
    "def kinetics(x):\n",
    "    k1,k2,k3,k4,k5,k6,k7,k8 = np.array(x)\n",
    "    \n",
    "    eqn1 = k1 + k2 + k3 + k5 + k6 - kC4\n",
    "    \n",
    "    eqn2 = k1/kC4*(FC40-FC4) + 1/3*k7*k8*(k1+4/3*k3-k5) / ((k8-kC4)*(k4+k7-kC4)*kC4) \\\n",
    "         * (FC40 - FC4 + kC4/k8*FC40*((FC40/FC4)**(-k8/kC4)-1)) \\\n",
    "         - 1/3*k7*k8*(k1+4/3*k3-k5) / ((k4+k7-k8)*(k4+k7-kC4)*kC4) \\\n",
    "         * (kC4/(k4+k7)*FC40*((FC40/FC4)**(-(k4+k7)/kC4)-1) - \\\n",
    "           kC4/k8*FC40*((FC40/FC4)**(-k8/kC4)-1)) - FC1\n",
    "        \n",
    "    eqn3 = FC1 + (2*k2-k1)/kC4*(FC40-FC4) - FC2\n",
    "    \n",
    "    eqn4 = (k1+4/3*k3-k5)/(k4+k7-kC4) * (FC4 - FC40*(FC40/FC4)**(-(k4+k7)/kC4)) - FC3\n",
    "    \n",
    "    eqn5 = 1/2*k4*(k1+4/3*k3-k5)/(kC4*(k4+k7-kC4)) \\\n",
    "         * (FC40 - FC4 + kC4/(k4+k7)*FC40*((FC40/FC4)**(-(k4+k7)/kC4)-1)) \\\n",
    "         + FC1 - k1/kC4*(FC40-FC4) - FA6\n",
    "    \n",
    "    eqn6 = -k5/kC4*(FC4 - FC40) - FA7\n",
    "    \n",
    "    eqn7 = -1/2*k6/kC4*(FC4 - FC40) - FA8\n",
    "    \n",
    "    eqn8 = 1/3*k7*(k1+4/3*k3-k5)/((k8-kC4)*(k4+k7-kC4)) \\\n",
    "         * (FC4 - FC40*((FC40/FC4)**(-k8/kC4))) \\\n",
    "         + 1/3*k7*(k1+4/3*k3-k5)/((k4+k7-k8)*(k4+k7-kC4)) \\\n",
    "         * FC40 * ((FC40/FC4)**(-(k4+k7)/kC4) - (FC40/FC4)**(-k8/kC4)) - FA9\n",
    "    \n",
    "    return (eqn1,eqn2,eqn3,eqn4,eqn5,eqn6,eqn7,eqn8)"
   ]
  },
  {
   "cell_type": "markdown",
   "id": "dc56b8a7",
   "metadata": {},
   "source": [
    "# 2. 读取数据"
   ]
  },
  {
   "cell_type": "code",
   "execution_count": 99,
   "id": "246884ba",
   "metadata": {},
   "outputs": [],
   "source": [
    "#sample number, starting from 0\n",
    "sample = 3\n",
    "\n",
    "#read constants, MATLAB equivalent is \"readtable\"\n",
    "constants = pd.read_csv('constants.csv', index_col = 0)\n",
    "kC4,FC1,FC2,FC3,FC4,FA6,FA7,FA8,FA9,FC40 = constants.iloc[sample,:].values\n",
    "\n",
    "#read initial guesses, note that initial guess for k8 is unknown thus default to 1e-8\n",
    "#MATLAB equivalent is \"readtable\"\n",
    "init_guess = pd.read_csv('initial_guess.csv', index_col = 0)\n",
    "#MATLAB equivalent is x = [x, 1e-8]\n",
    "ki = np.append(init_guess.iloc[sample,:].values, 1e-8) "
   ]
  },
  {
   "cell_type": "markdown",
   "id": "99aa04af",
   "metadata": {},
   "source": [
    "# 3. 求解方程"
   ]
  },
  {
   "cell_type": "code",
   "execution_count": 100,
   "id": "cda41091",
   "metadata": {},
   "outputs": [
    {
     "name": "stdout",
     "output_type": "stream",
     "text": [
      "(-7.751231281237668e-10, 5.530298441414061e-15, 1.2420620087993939e-15, 7.690029169005186e-15, 2.2230481344642783e-15, 4.344614945583913e-15, 4.965429109549113e-15, 4.699257476203922e-15)\n",
      "[3.13297362e-08 1.39961113e-08 3.09148790e-08 1.74472380e-08\n",
      " 1.02239381e-08 9.66021221e-09 1.07046317e-08 9.86551979e-09]\n"
     ]
    }
   ],
   "source": [
    "ls = least_squares(kinetics, ki, method = 'dogbox',bounds = ([0]*8,[np.inf]*8),xtol = 1e-12, ftol = 1e-12)  \n",
    "ks = ls.x \n",
    "print(kinetics(ks))\n",
    "print(ks)"
   ]
  },
  {
   "cell_type": "markdown",
   "id": "7fca71c0",
   "metadata": {},
   "source": [
    "# 4. 求解所有方程并储存结果"
   ]
  },
  {
   "cell_type": "code",
   "execution_count": 102,
   "id": "fc6ce9bb",
   "metadata": {},
   "outputs": [],
   "source": [
    "constants = pd.read_csv('constants.csv', index_col = 0)\n",
    "init_guess = pd.read_csv('initial_guess.csv', index_col = 0)\n",
    "\n",
    "#loop over all samples\n",
    "kss = []\n",
    "for sample in range(6):\n",
    "    kC4,FC1,FC2,FC3,FC4,FA6,FA7,FA8,FA9,FC40 = constants.iloc[sample,:].values\n",
    "    ki = np.append(init_guess.iloc[sample,:].values, 1e-8) \n",
    "    ls = least_squares(kinetics, ki, method = 'dogbox',bounds = ([0]*8,[np.inf]*8),xtol = 1e-12, ftol = 1e-12)  \n",
    "    kss.append(ls.x) \n",
    "\n",
    "#export results to a csv file\n",
    "kss = pd.DataFrame(kss)\n",
    "kss.columns = ['k'+str(x) for x in range(1,9)]\n",
    "kss.to_csv('results.csv')"
   ]
  }
 ],
 "metadata": {
  "kernelspec": {
   "display_name": "Python 3 (ipykernel)",
   "language": "python",
   "name": "python3"
  },
  "language_info": {
   "codemirror_mode": {
    "name": "ipython",
    "version": 3
   },
   "file_extension": ".py",
   "mimetype": "text/x-python",
   "name": "python",
   "nbconvert_exporter": "python",
   "pygments_lexer": "ipython3",
   "version": "3.10.8"
  }
 },
 "nbformat": 4,
 "nbformat_minor": 5
}
